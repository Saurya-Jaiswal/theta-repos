{
 "cells": [
  {
   "cell_type": "markdown",
   "id": "f49518ac-e01c-4b72-97f3-1ec866793ee3",
   "metadata": {},
   "source": [
    "# Normalization with MinMax Scalar"
   ]
  },
  {
   "cell_type": "code",
   "execution_count": 9,
   "id": "77f4d40b-b064-4484-a51f-5293b518ec3f",
   "metadata": {},
   "outputs": [
    {
     "name": "stdout",
     "output_type": "stream",
     "text": [
      "Original dataframe\n",
      "   age  height  weight\n",
      "0   25     150      50\n",
      "1   20     160      60\n",
      "2   35     170      70\n",
      "3   40     180      80\n",
      "4   45     190      90\n",
      "Normalized dataframe\n",
      "   age  height  weight\n",
      "0  0.2    0.00    0.00\n",
      "1  0.0    0.25    0.25\n",
      "2  0.6    0.50    0.50\n",
      "3  0.8    0.75    0.75\n",
      "4  1.0    1.00    1.00\n"
     ]
    }
   ],
   "source": [
    "import pandas as pd\n",
    "from sklearn.preprocessing import MinMaxScaler\n",
    "\n",
    "# Sample Data\n",
    "data = {\n",
    "    \"age\": [25, 20, 35, 40, 45],\n",
    "    \"height\": [150, 160, 170, 180, 190],\n",
    "    \"weight\": [50, 60, 70, 80, 90]\n",
    "}\n",
    "\n",
    "df = pd.DataFrame(data)\n",
    "print(\"Original dataframe\")\n",
    "print(df)\n",
    "\n",
    "scaler = MinMaxScaler()\n",
    "normalized_data = scaler.fit_transform(df)\n",
    "normalized_df = pd.DataFrame(normalized_data, columns=df.columns)\n",
    "print(\"Normalized dataframe\")\n",
    "print(normalized_df)"
   ]
  },
  {
   "cell_type": "markdown",
   "id": "924944f8-a445-4a08-b58f-af079748de12",
   "metadata": {},
   "source": [
    "# Standardization with Standard Scalar"
   ]
  },
  {
   "cell_type": "code",
   "execution_count": 7,
   "id": "0c34dabc-329b-4e3f-8331-ceb17d3f7e56",
   "metadata": {},
   "outputs": [
    {
     "name": "stdout",
     "output_type": "stream",
     "text": [
      "Original dataframe\n",
      "   age  height  weight\n",
      "0   25     150      50\n",
      "1   20     160      60\n",
      "2   35     170      70\n",
      "3   40     180      80\n",
      "4   45     190      90\n",
      "Standardized dataframe\n",
      "        age    height    weight\n",
      "0 -0.862662 -1.414214 -1.414214\n",
      "1 -1.401826 -0.707107 -0.707107\n",
      "2  0.215666  0.000000  0.000000\n",
      "3  0.754829  0.707107  0.707107\n",
      "4  1.293993  1.414214  1.414214\n"
     ]
    }
   ],
   "source": [
    "import pandas as pd\n",
    "from sklearn.preprocessing import StandardScaler\n",
    "\n",
    "# Sample Data\n",
    "data = {\n",
    "    \"age\": [25, 20, 35, 40, 45],\n",
    "    \"height\": [150, 160, 170, 180, 190],\n",
    "    \"weight\": [50, 60, 70, 80, 90]\n",
    "}\n",
    "\n",
    "df = pd.DataFrame(data)\n",
    "print(\"Original dataframe\")\n",
    "print(df)\n",
    "\n",
    "scaler = StandardScaler()\n",
    "standardized_data = scaler.fit_transform(df)\n",
    "standardized_df = pd.DataFrame(standardized_data, columns=df.columns)\n",
    "print(\"Standardized dataframe\")\n",
    "print(standardized_df)"
   ]
  },
  {
   "cell_type": "markdown",
   "id": "854a7f6e-0bb4-4dca-b037-b8976521d731",
   "metadata": {},
   "source": [
    "# One-Hot Encoding"
   ]
  },
  {
   "cell_type": "code",
   "execution_count": 20,
   "id": "db92468e-1aa1-4efc-8ffa-0d4b2eac2bb7",
   "metadata": {},
   "outputs": [
    {
     "name": "stdout",
     "output_type": "stream",
     "text": [
      "Original DataFrame:\n",
      "   customer_id  gender       city  fruits\n",
      "0            1    Male  Hyderabad   Apple\n",
      "1            2  Female       Pune  Orange\n",
      "2            3  Female  Bangalore    Kiwi\n",
      "3            4    Male     Mumbai  Banana\n",
      "\n",
      "One-Hot Encoded DataFrame with sklearn:\n",
      "   customer_id  gender_Female  gender_Male  city_Bangalore  city_Hyderabad  \\\n",
      "0            1            0.0          1.0             0.0             1.0   \n",
      "1            2            1.0          0.0             0.0             0.0   \n",
      "2            3            1.0          0.0             1.0             0.0   \n",
      "3            4            0.0          1.0             0.0             0.0   \n",
      "\n",
      "   city_Mumbai  city_Pune  fruits_Apple  fruits_Banana  fruits_Kiwi  \\\n",
      "0          0.0        0.0           1.0            0.0          0.0   \n",
      "1          0.0        1.0           0.0            0.0          0.0   \n",
      "2          0.0        0.0           0.0            0.0          1.0   \n",
      "3          1.0        0.0           0.0            1.0          0.0   \n",
      "\n",
      "   fruits_Orange  \n",
      "0            0.0  \n",
      "1            1.0  \n",
      "2            0.0  \n",
      "3            0.0  \n"
     ]
    }
   ],
   "source": [
    "import pandas as pd\n",
    "from sklearn.preprocessing import OneHotEncoder\n",
    "\n",
    "# Sample data\n",
    "data = {\n",
    "    \"customer_id\": [1, 2, 3, 4],\n",
    "    \"gender\": [\"Male\", \"Female\", \"Female\", \"Male\"],\n",
    "    \"city\": [\"Hyderabad\", \"Pune\", \"Bangalore\", \"Mumbai\"],\n",
    "    \"fruits\": [\"Apple\", \"Orange\", \"Kiwi\", \"Banana\"]\n",
    "}\n",
    "df = pd.DataFrame(data)\n",
    "print(\"Original DataFrame:\")\n",
    "print(df)\n",
    "\n",
    "# Initialize OneHotEncoder\n",
    "one_hot_encoder = OneHotEncoder(sparse_output=False)\n",
    "\n",
    "# Define columns to encode\n",
    "columns_to_encode = [\"gender\", \"city\", \"fruits\"]\n",
    "\n",
    "# Fit and transform the data\n",
    "encoded_data = one_hot_encoder.fit_transform(df[columns_to_encode])\n",
    "\n",
    "# Create a DataFrame with the encoded data\n",
    "encoded_columns = one_hot_encoder.get_feature_names_out(columns_to_encode)\n",
    "encoded_df = pd.DataFrame(encoded_data, columns=encoded_columns)\n",
    "\n",
    "# Combine with the original DataFrame\n",
    "final_df = pd.concat([df, encoded_df], axis=1).drop(columns_to_encode, axis=1)\n",
    "print(\"\\nOne-Hot Encoded DataFrame with sklearn:\")\n",
    "print(final_df)"
   ]
  },
  {
   "cell_type": "markdown",
   "id": "29597fc0-a70a-4019-9717-051843643e7d",
   "metadata": {},
   "source": [
    "# Label Encoding"
   ]
  },
  {
   "cell_type": "code",
   "execution_count": 22,
   "id": "b767f2e2-09df-4d20-a025-0f5c9a1e0bec",
   "metadata": {},
   "outputs": [
    {
     "name": "stdout",
     "output_type": "stream",
     "text": [
      "Original DataFrame:\n",
      "   customer_id  gender       city  fruits\n",
      "0            1    Male  Hyderabad   Apple\n",
      "1            2  Female       Pune  Orange\n",
      "2            3  Female  Bangalore    Kiwi\n",
      "3            4    Male     Mumbai  Banana\n",
      "\n",
      "DataFrame with Label Encoded columns:\n",
      "   customer_id  gender       city  fruits  gender_encoded  city_encoded  \\\n",
      "0            1    Male  Hyderabad   Apple               1             1   \n",
      "1            2  Female       Pune  Orange               0             3   \n",
      "2            3  Female  Bangalore    Kiwi               0             0   \n",
      "3            4    Male     Mumbai  Banana               1             2   \n",
      "\n",
      "   fruits_encoded  \n",
      "0               0  \n",
      "1               3  \n",
      "2               2  \n",
      "3               1  \n"
     ]
    }
   ],
   "source": [
    "import pandas as pd\n",
    "from sklearn.preprocessing import LabelEncoder\n",
    "\n",
    "# Sample data\n",
    "data = {\n",
    "    \"customer_id\": [1, 2, 3, 4],\n",
    "    \"gender\": [\"Male\", \"Female\", \"Female\", \"Male\"],\n",
    "    \"city\": [\"Hyderabad\", \"Pune\", \"Bangalore\", \"Mumbai\"],\n",
    "    \"fruits\": [\"Apple\", \"Orange\", \"Kiwi\", \"Banana\"]\n",
    "}\n",
    "df = pd.DataFrame(data)\n",
    "print(\"Original DataFrame:\")\n",
    "print(df)\n",
    "\n",
    "# Initialize LabelEncoder\n",
    "label_encoder = LabelEncoder()\n",
    "\n",
    "# Encode the 'gender' column\n",
    "df['gender_encoded'] = label_encoder.fit_transform(df['gender'])\n",
    "\n",
    "# Encode the 'city' column\n",
    "df['city_encoded'] = label_encoder.fit_transform(df['city'])\n",
    "\n",
    "# Encode the 'fruits' column\n",
    "df['fruits_encoded'] = label_encoder.fit_transform(df['fruits'])\n",
    "\n",
    "print(\"\\nDataFrame with Label Encoded columns:\")\n",
    "print(df)\n"
   ]
  },
  {
   "cell_type": "code",
   "execution_count": null,
   "id": "a37e2396-1e94-49f6-b417-d3628ead31c4",
   "metadata": {},
   "outputs": [],
   "source": []
  }
 ],
 "metadata": {
  "kernelspec": {
   "display_name": "Python [conda env:base] *",
   "language": "python",
   "name": "conda-base-py"
  },
  "language_info": {
   "codemirror_mode": {
    "name": "ipython",
    "version": 3
   },
   "file_extension": ".py",
   "mimetype": "text/x-python",
   "name": "python",
   "nbconvert_exporter": "python",
   "pygments_lexer": "ipython3",
   "version": "3.12.7"
  }
 },
 "nbformat": 4,
 "nbformat_minor": 5
}
