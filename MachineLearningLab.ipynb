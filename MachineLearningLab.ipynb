{
 "cells": [
  {
   "cell_type": "markdown",
   "id": "8c26e8f8-a24e-429d-98cf-3bd5d8b7a581",
   "metadata": {},
   "source": [
    "# Implement a program to clean a dataset of missing values."
   ]
  },
  {
   "cell_type": "code",
   "execution_count": 1,
   "id": "4d922780-5827-441f-bbdf-0995d4377bdf",
   "metadata": {},
   "outputs": [
    {
     "name": "stdout",
     "output_type": "stream",
     "text": [
      "Original Dataset:\n",
      "   PassengerId     Name   Age   Fare  Survived\n",
      "0            1     John  22.0   7.25         0\n",
      "1            2     Jane   NaN  71.28         1\n",
      "2            3      Bob  25.0    NaN         1\n",
      "3            4    Alice   NaN   8.05         0\n",
      "4            5  Charlie  30.0  10.50         1\n",
      "\n",
      "Cleaned Dataset:\n",
      "   PassengerId        Age   Fare  Survived\n",
      "0          1.0  22.000000   7.25       0.0\n",
      "1          2.0  25.666667  71.28       1.0\n",
      "2          3.0  25.000000  24.27       1.0\n",
      "3          4.0  25.666667   8.05       0.0\n",
      "4          5.0  30.000000  10.50       1.0\n"
     ]
    }
   ],
   "source": [
    "import pandas as pd\n",
    "from sklearn.impute import SimpleImputer\n",
    "def generate_example_dataset():\n",
    "    data = {\n",
    "        'PassengerId': [1, 2, 3, 4, 5],\n",
    "        'Name': ['John', 'Jane', 'Bob', 'Alice', 'Charlie'],\n",
    "        'Age': [22, None, 25, None, 30],\n",
    "        'Fare': [7.25, 71.28, None, 8.05, 10.5],\n",
    "        'Survived': [0, 1, 1, 0, 1]\n",
    "    }\n",
    "    return pd.DataFrame(data)\n",
    "def clean_dataset(df):\n",
    "    # Display the original dataset\n",
    "    print(\"Original Dataset:\")\n",
    "    print(df)\n",
    "    numeric_df = df.select_dtypes(include='number')\n",
    "    imputer = SimpleImputer(strategy='mean')\n",
    "    df_cleaned = pd.DataFrame(imputer.fit_transform(numeric_df), columns=numeric_df.columns)\n",
    "    print(\"\\nCleaned Dataset:\")\n",
    "    print(df_cleaned)\n",
    "if __name__ == \"__main__\":\n",
    "    example_dataset = generate_example_dataset()\n",
    "    clean_dataset(example_dataset)"
   ]
  },
  {
   "cell_type": "markdown",
   "id": "8472c086-80e9-4d51-99d6-27a5a03a528b",
   "metadata": {},
   "source": [
    "# Implement a program to fit a linear regression model to a dataset."
   ]
  },
  {
   "cell_type": "code",
   "execution_count": null,
   "id": "372bb66d-71fc-4676-bf4e-eb8fa2cddb34",
   "metadata": {},
   "outputs": [],
   "source": [
    "import numpy as np\n",
    "import matplotlib.pyplot as plt\n",
    "import pandas as pd\n",
    "from sklearn.model_selection import train_test_split\n",
    "from sklearn.linear_model import LinearRegression\n",
    "from sklearn.compose import ColumnTransformer\n",
    "from sklearn.preprocessing import OneHotEncoder\n",
    "\n",
    "# Load the dataset\n",
    "data_set = pd.read_csv(r'C:/Users/Jaisw/OneDrive/Desktop/Salary_Data.csv')\n",
    "\n",
    "# Separate features and target\n",
    "x = data_set.iloc[:, :-1].values  # Features (Years of Experience or other columns)\n",
    "y = data_set.iloc[:, -1].values   # Target (Salary)\n",
    "\n",
    "# Encode categorical data if present\n",
    "if data_set.dtypes.isin([object]).any():  # Check if there are any non-numeric columns\n",
    "    categorical_feature_indices = [i for i, col in enumerate(data_set.columns[:-1]) if data_set[col].dtype == \"object\"]\n",
    "    ct = ColumnTransformer(transformers=[('encoder', OneHotEncoder(), categorical_feature_indices)], remainder='passthrough')\n",
    "    x = np.array(ct.fit_transform(x))\n",
    "\n",
    "# Splitting the dataset into training and test sets\n",
    "x_train, x_test, y_train, y_test = train_test_split(x, y, test_size=1/3, random_state=0)\n",
    "\n",
    "# Fitting the Simple Linear Regression model to the training dataset\n",
    "regressor = LinearRegression()\n",
    "regressor.fit(x_train, y_train)\n",
    "\n",
    "# Prediction of Test and Training set results\n",
    "y_pred = regressor.predict(x_test)\n",
    "x_pred = regressor.predict(x_train)\n",
    "\n",
    "# Visualizing the Training set results\n",
    "plt.scatter(x_train[:, -1], y_train, color=\"green\")  # Use the appropriate column for x-axis\n",
    "plt.plot(x_train[:, -1], x_pred, color=\"red\")\n",
    "plt.title(\"Salary vs Experience (Training Dataset)\")\n",
    "plt.xlabel(\"Years of Experience\")\n",
    "plt.ylabel(\"Salary (In Rupees)\")\n",
    "plt.show()\n",
    "\n",
    "# Visualizing the Test set results\n",
    "plt.scatter(x_test[:, -1], y_test, color=\"blue\")  # Use the appropriate column for x-axis\n",
    "plt.plot(x_train[:, -1], x_pred, color=\"red\")  # The regression line remains the same\n",
    "plt.title(\"Salary vs Experience (Test Dataset)\")\n",
    "plt.xlabel(\"Years of Experience\")\n",
    "plt.ylabel(\"Salary (In Rupees)\")\n",
    "plt.show()"
   ]
  },
  {
   "cell_type": "code",
   "execution_count": 21,
   "id": "7d777fa5-6c8b-4423-91e3-ccffab0bf7d3",
   "metadata": {},
   "outputs": [
    {
     "ename": "IndentationError",
     "evalue": "expected an indented block after function definition on line 5 (406099062.py, line 6)",
     "output_type": "error",
     "traceback": [
      "\u001b[1;36m  Cell \u001b[1;32mIn[21], line 6\u001b[1;36m\u001b[0m\n\u001b[1;33m    X, y = df.drop(columns=[target_column]),\u001b[0m\n\u001b[1;37m    ^\u001b[0m\n\u001b[1;31mIndentationError\u001b[0m\u001b[1;31m:\u001b[0m expected an indented block after function definition on line 5\n"
     ]
    }
   ],
   "source": [
    "import pandas as pd \n",
    "from sklearn.model_selection import train_test_split \n",
    "from sklearn.linear_model import LinearRegression \n",
    "from sklearn.metrics import mean_squared_error \n",
    "def fit_linear_regression(df, target_column): \n",
    "X, y = df.drop(columns=[target_column]), \n",
    "df[target_column] \n",
    "X_train, X_test, y_train, y_test = train_test_split(X, \n",
    "y, test_size=0.2, random_state=42) \n",
    "model = LinearRegression().fit(X_train, y_train) \n",
    "mse = mean_squared_error(y_test, \n",
    "model.predict(X_test)) \n",
    "return model, mse \n",
    "df = pd.read_csv(\"data.csv\") \n",
    "model, mse = fit_linear_regression(df, \"target_column\") \n",
    "print(\"MSE:\", mse)"
   ]
  },
  {
   "cell_type": "code",
   "execution_count": null,
   "id": "25d3ea97-5745-423b-bcd5-dd1a0b78cc77",
   "metadata": {},
   "outputs": [],
   "source": []
  }
 ],
 "metadata": {
  "kernelspec": {
   "display_name": "Python [conda env:base] *",
   "language": "python",
   "name": "conda-base-py"
  },
  "language_info": {
   "codemirror_mode": {
    "name": "ipython",
    "version": 3
   },
   "file_extension": ".py",
   "mimetype": "text/x-python",
   "name": "python",
   "nbconvert_exporter": "python",
   "pygments_lexer": "ipython3",
   "version": "3.12.7"
  }
 },
 "nbformat": 4,
 "nbformat_minor": 5
}
