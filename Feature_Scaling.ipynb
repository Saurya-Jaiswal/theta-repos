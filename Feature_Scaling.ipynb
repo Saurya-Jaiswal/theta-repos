{
 "cells": [
  {
   "cell_type": "markdown",
   "id": "f49518ac-e01c-4b72-97f3-1ec866793ee3",
   "metadata": {},
   "source": [
    "# Normalization with MinMax Scalar"
   ]
  },
  {
   "cell_type": "code",
   "execution_count": 9,
   "id": "77f4d40b-b064-4484-a51f-5293b518ec3f",
   "metadata": {},
   "outputs": [
    {
     "name": "stdout",
     "output_type": "stream",
     "text": [
      "Original dataframe\n",
      "   age  height  weight\n",
      "0   25     150      50\n",
      "1   20     160      60\n",
      "2   35     170      70\n",
      "3   40     180      80\n",
      "4   45     190      90\n",
      "Normalized dataframe\n",
      "   age  height  weight\n",
      "0  0.2    0.00    0.00\n",
      "1  0.0    0.25    0.25\n",
      "2  0.6    0.50    0.50\n",
      "3  0.8    0.75    0.75\n",
      "4  1.0    1.00    1.00\n"
     ]
    }
   ],
   "source": [
    "import pandas as pd\n",
    "from sklearn.preprocessing import MinMaxScaler\n",
    "\n",
    "# Sample Data\n",
    "data = {\n",
    "    \"age\": [25, 20, 35, 40, 45],\n",
    "    \"height\": [150, 160, 170, 180, 190],\n",
    "    \"weight\": [50, 60, 70, 80, 90]\n",
    "}\n",
    "\n",
    "df = pd.DataFrame(data)\n",
    "print(\"Original dataframe\")\n",
    "print(df)\n",
    "\n",
    "scaler = MinMaxScaler()\n",
    "normalized_data = scaler.fit_transform(df)\n",
    "normalized_df = pd.DataFrame(normalized_data, columns=df.columns)\n",
    "print(\"Normalized dataframe\")\n",
    "print(normalized_df)"
   ]
  },
  {
   "cell_type": "markdown",
   "id": "924944f8-a445-4a08-b58f-af079748de12",
   "metadata": {},
   "source": [
    "# Standardization with Standard Scalar"
   ]
  },
  {
   "cell_type": "code",
   "execution_count": 7,
   "id": "0c34dabc-329b-4e3f-8331-ceb17d3f7e56",
   "metadata": {},
   "outputs": [
    {
     "name": "stdout",
     "output_type": "stream",
     "text": [
      "Original dataframe\n",
      "   age  height  weight\n",
      "0   25     150      50\n",
      "1   20     160      60\n",
      "2   35     170      70\n",
      "3   40     180      80\n",
      "4   45     190      90\n",
      "Standardized dataframe\n",
      "        age    height    weight\n",
      "0 -0.862662 -1.414214 -1.414214\n",
      "1 -1.401826 -0.707107 -0.707107\n",
      "2  0.215666  0.000000  0.000000\n",
      "3  0.754829  0.707107  0.707107\n",
      "4  1.293993  1.414214  1.414214\n"
     ]
    }
   ],
   "source": [
    "import pandas as pd\n",
    "from sklearn.preprocessing import StandardScaler\n",
    "\n",
    "# Sample Data\n",
    "data = {\n",
    "    \"age\": [25, 20, 35, 40, 45],\n",
    "    \"height\": [150, 160, 170, 180, 190],\n",
    "    \"weight\": [50, 60, 70, 80, 90]\n",
    "}\n",
    "\n",
    "df = pd.DataFrame(data)\n",
    "print(\"Original dataframe\")\n",
    "print(df)\n",
    "\n",
    "scaler = StandardScaler()\n",
    "standardized_data = scaler.fit_transform(df)\n",
    "standardized_df = pd.DataFrame(standardized_data, columns=df.columns)\n",
    "print(\"Standardized dataframe\")\n",
    "print(standardized_df)"
   ]
  },
  {
   "cell_type": "code",
   "execution_count": null,
   "id": "494e6832-4dd2-451e-b5b5-3aeab5cef057",
   "metadata": {},
   "outputs": [],
   "source": []
  }
 ],
 "metadata": {
  "kernelspec": {
   "display_name": "Python [conda env:base] *",
   "language": "python",
   "name": "conda-base-py"
  },
  "language_info": {
   "codemirror_mode": {
    "name": "ipython",
    "version": 3
   },
   "file_extension": ".py",
   "mimetype": "text/x-python",
   "name": "python",
   "nbconvert_exporter": "python",
   "pygments_lexer": "ipython3",
   "version": "3.12.7"
  }
 },
 "nbformat": 4,
 "nbformat_minor": 5
}
